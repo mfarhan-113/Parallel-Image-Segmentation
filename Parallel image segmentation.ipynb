{
  "nbformat": 4,
  "nbformat_minor": 0,
  "metadata": {
    "colab": {
      "provenance": [],
      "authorship_tag": "ABX9TyNYumpqRFSFI7rrPDDtGwaY",
      "include_colab_link": true
    },
    "kernelspec": {
      "name": "python3",
      "display_name": "Python 3"
    },
    "language_info": {
      "name": "python"
    }
  },
  "cells": [
    {
      "cell_type": "markdown",
      "metadata": {
        "id": "view-in-github",
        "colab_type": "text"
      },
      "source": [
        "<a href=\"https://colab.research.google.com/github/mfarhan-113/Parallel-Image-Segmentation/blob/main/Parallel%20image%20segmentation.ipynb\" target=\"_parent\"><img src=\"https://colab.research.google.com/assets/colab-badge.svg\" alt=\"Open In Colab\"/></a>"
      ]
    },
    {
      "cell_type": "markdown",
      "source": [
        "#Sequence\n"
      ],
      "metadata": {
        "id": "irSs6nLMHcxg"
      }
    },
    {
      "cell_type": "code",
      "execution_count": null,
      "metadata": {
        "colab": {
          "base_uri": "https://localhost:8080/"
        },
        "id": "mnBeNGkYHRTt",
        "outputId": "094368c4-4e81-4cdf-960c-b1f1f203554c"
      },
      "outputs": [
        {
          "output_type": "stream",
          "name": "stdout",
          "text": [
            "Sequential segmentation time: 17.3716 seconds\n",
            "Segmentation completed and saved.\n"
          ]
        }
      ],
      "source": [
        "import cv2\n",
        "import numpy as np\n",
        "from sklearn.cluster import KMeans\n",
        "import time\n",
        "\n",
        "# Function for Sequential processing\n",
        "def kmeans_segment_sequential(image, k=3):\n",
        "    reshaped_image = image.reshape((-1, 3))\n",
        "\n",
        "    kmeans = KMeans(n_clusters=k, random_state=0)\n",
        "    kmeans.fit(reshaped_image)\n",
        "\n",
        "    segmented_image = kmeans.cluster_centers_[kmeans.labels_].reshape(image.shape)\n",
        "\n",
        "    return segmented_image\n",
        "\n",
        "def load_image(image_path):\n",
        "    image = cv2.imread(image_path)\n",
        "    image = cv2.cvtColor(image, cv2.COLOR_BGR2RGB)\n",
        "    return image\n",
        "\n",
        "def save_image(image, output_path):\n",
        "    image = np.uint8(np.clip(image, 0, 255))\n",
        "    image = cv2.cvtColor(image, cv2.COLOR_RGB2BGR)\n",
        "    cv2.imwrite(output_path, image)\n",
        "\n",
        "if __name__ == \"__main__\":\n",
        "    image_path = '/content/DJI_20241203153440_0210_D.JPG'\n",
        "    output_path = '/content/segmented_sequential_image.jpg'\n",
        "\n",
        "    image = load_image(image_path)\n",
        "\n",
        "    start_time = time.time()\n",
        "\n",
        "    segmented_image = kmeans_segment_sequential(image, k=3)\n",
        "\n",
        "    end_time = time.time()\n",
        "    print(f\"Sequential segmentation time: {end_time - start_time:.4f} seconds\")\n",
        "\n",
        "    save_image(segmented_image, output_path)\n",
        "    print(\"Segmentation completed and saved.\")\n"
      ]
    },
    {
      "cell_type": "markdown",
      "source": [
        "#Parallel\n"
      ],
      "metadata": {
        "id": "F6w9Fs9SH8Xk"
      }
    },
    {
      "cell_type": "code",
      "source": [
        "import cv2\n",
        "import numpy as np\n",
        "from sklearn.cluster import KMeans\n",
        "import time\n",
        "import threading\n",
        "\n",
        "# Function to apply k-means clustering to a part of the image (parallel)\n",
        "def kmeans_segment_part(image_part, k=3):\n",
        "    reshaped_part = image_part.reshape((-1, 3))\n",
        "\n",
        "    kmeans = KMeans(n_clusters=k, random_state=0)\n",
        "    kmeans.fit(reshaped_part)\n",
        "\n",
        "    segmented_part = kmeans.cluster_centers_[kmeans.labels_].reshape(image_part.shape)\n",
        "\n",
        "    return segmented_part\n",
        "\n",
        "# Function to load and preprocess the image\n",
        "def load_image(image_path):\n",
        "    image = cv2.imread(image_path)\n",
        "    image = cv2.cvtColor(image, cv2.COLOR_BGR2RGB)  # Convert from BGR to RGB\n",
        "    return image\n",
        "\n",
        "# Function to save the segmented image\n",
        "def save_image(image, output_path):\n",
        "    image = np.uint8(np.clip(image, 0, 255))\n",
        "    image = cv2.cvtColor(image, cv2.COLOR_RGB2BGR)\n",
        "    cv2.imwrite(output_path, image)\n",
        "\n",
        "# Function to divide the image into parts for parallel processing\n",
        "def divide_image(image, num_parts=2):\n",
        "    height, width, _ = image.shape\n",
        "    parts = []\n",
        "    part_height = height // num_parts\n",
        "    for i in range(num_parts):\n",
        "        start_y = i * part_height\n",
        "        end_y = (i + 1) * part_height if i < num_parts - 1 else height\n",
        "        parts.append(image[start_y:end_y, :, :])\n",
        "    return parts\n",
        "\n",
        "# Function for parallel processing\n",
        "def parallel_kmeans(image, num_threads=2, k=3):\n",
        "    parts = divide_image(image, num_parts=num_threads)\n",
        "    threads = []\n",
        "    segmented_parts = [None] * num_threads\n",
        "\n",
        "    def worker(thread_id, image_part):\n",
        "        segmented_parts[thread_id] = kmeans_segment_part(image_part, k)\n",
        "\n",
        "    # Start threads\n",
        "    for i in range(num_threads):\n",
        "        thread = threading.Thread(target=worker, args=(i, parts[i]))\n",
        "        threads.append(thread)\n",
        "        thread.start()\n",
        "\n",
        "    # Join threads\n",
        "    for thread in threads:\n",
        "        thread.join()\n",
        "\n",
        "    # Combine the segmented parts back into one image\n",
        "    segmented_image = np.vstack(segmented_parts)\n",
        "\n",
        "    return segmented_image\n",
        "\n",
        "# Main function for parallel processing\n",
        "if __name__ == \"__main__\":\n",
        "    image_path = '/content/DJI_20241203153440_0210_D.JPG'\n",
        "    output_path = '/content/segmented_parallel_image.jpg'\n",
        "\n",
        "    image = load_image(image_path)\n",
        "\n",
        "    # Measure time for parallel processing\n",
        "    start_time = time.time()\n",
        "\n",
        "    # Perform k-means segmentation (parallel)\n",
        "    segmented_image = parallel_kmeans(image, num_threads=4, k=3)\n",
        "\n",
        "    # Measure elapsed time\n",
        "    end_time = time.time()\n",
        "    print(f\"Parallel segmentation time: {end_time - start_time:.4f} seconds\")\n",
        "\n",
        "    save_image(segmented_image, output_path)\n",
        "    print(\"Segmentation completed and saved.\")\n"
      ],
      "metadata": {
        "colab": {
          "base_uri": "https://localhost:8080/"
        },
        "id": "fHax738_H-B8",
        "outputId": "e6c1ae60-408b-4056-aaf7-64a9fe4a39e1"
      },
      "execution_count": null,
      "outputs": [
        {
          "output_type": "stream",
          "name": "stdout",
          "text": [
            "Parallel segmentation time: 12.0431 seconds\n",
            "Segmentation completed and saved.\n"
          ]
        }
      ]
    }
  ]
}